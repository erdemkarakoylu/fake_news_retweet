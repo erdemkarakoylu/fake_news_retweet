{
  "nbformat": 4,
  "nbformat_minor": 0,
  "metadata": {
    "colab": {
      "provenance": [],
      "authorship_tag": "ABX9TyOGBqhJXK+KOqplFAn+0c9S",
      "include_colab_link": true
    },
    "kernelspec": {
      "name": "python3",
      "display_name": "Python 3"
    },
    "language_info": {
      "name": "python"
    }
  },
  "cells": [
    {
      "cell_type": "markdown",
      "metadata": {
        "id": "view-in-github",
        "colab_type": "text"
      },
      "source": [
        "<a href=\"https://colab.research.google.com/github/erdemkarakoylu/fake_news_retweet/blob/main/01_extract_user_and_tweet_features.ipynb\" target=\"_parent\"><img src=\"https://colab.research.google.com/assets/colab-badge.svg\" alt=\"Open In Colab\"/></a>"
      ]
    },
    {
      "cell_type": "markdown",
      "source": [
        "## Preamble\n",
        "\n",
        "In this notebook I extract users, tweets, and retweets. I load these in their respective dataframe. I then store each of these dataframes as a table in a MySql database."
      ],
      "metadata": {
        "id": "N17rLCzs_wyg"
      }
    },
    {
      "cell_type": "code",
      "execution_count": 1,
      "metadata": {
        "id": "geMW92Nt-_u4"
      },
      "outputs": [],
      "source": [
        "from datetime import datetime\n",
        "import json\n",
        "from pathlib import Path\n",
        "from typing import Generator, List\n",
        "\n",
        "import numpy as np\n",
        "import pandas as pd\n",
        "import sqlite3\n",
        "\n",
        "from google.colab import drive"
      ]
    },
    {
      "cell_type": "code",
      "source": [
        "drive.mount('/content/drive')\n",
        "files_location = \"/content/drive/Shareddrives/IAC2 Project Execution/INCAS/INCAS Data/Phase 2  Data/Erdem Files/tweets\"\n",
        "project_location = Path(\"/content/drive/MyDrive/FakeNewsProject/GNNs\")\n",
        "tweet_folder = Path(files_location)\n",
        "assert tweet_folder.exists()"
      ],
      "metadata": {
        "id": "dW0SyrKH_a0V",
        "colab": {
          "base_uri": "https://localhost:8080/"
        },
        "outputId": "6dc88b8e-75dd-4626-feef-67119cef40b8"
      },
      "execution_count": 2,
      "outputs": [
        {
          "output_type": "stream",
          "name": "stdout",
          "text": [
            "Mounted at /content/drive\n"
          ]
        }
      ]
    },
    {
      "cell_type": "code",
      "source": [
        "USER_FEATURES_TO_EXTRACT = [\n",
        "\t  'id', 'name', 'description', 'verified', 'geo_enabled', 'followers_count',\n",
        "\t  'friends_count', 'statuses_count', 'favourites_count', 'listed_count',\n",
        "\t  'created_at',\n",
        "\t  ]\n",
        "# This is here as a reference for what to extract\n",
        "def hand_feature(user_dict):\n",
        "\n",
        "\tfeature = np.zeros([len(user_dict), 10], dtype=np.float32)\n",
        "\tid_counter = 0\n",
        "\test_date = datetime.fromisoformat('2006-03-21')\n",
        "\tfor profile in user_dict.values():\n",
        "\t\t# 1) Verified?, 2) Enable geo-spatial positioning, 3) Followers count, 4) Friends count\n",
        "\t\tvector = [int(profile['verified']), int(profile['geo_enabled']), profile['followers_count'], profile['friends_count']]\n",
        "\t\t# 5) Status count, 6) Favorite count, 7) Number of lists\n",
        "\t\tvector += [profile['statuses_count'], profile['favourites_count'], profile['listed_count']]\n",
        "\n",
        "\t\t# 8) Created time (No. of months since Twitter established)\n",
        "\t\tuser_date = datetime.strptime(profile['created_at'], '%a %b %d %H:%M:%S +0000 %Y')\n",
        "\t\tmonth_diff = (user_date.year - est_date.year) * 12 + user_date.month - est_date.month\n",
        "\t\tvector += [month_diff]\n",
        "\n",
        "\t\t# 9) Number of words in the description, 10) Number of words in the screen name\n",
        "\t\tvector += [len(profile['name'].split()), len(profile['description'].split())]\n",
        "\n",
        "\t\tfeature[id_counter, :] = np.reshape(vector, (1, 10))\n",
        "\t\tid_counter += 1\n",
        "\t\tprint(id_counter)\n",
        "\n",
        "\treturn feature"
      ],
      "metadata": {
        "id": "ypo2din1CBia"
      },
      "execution_count": 3,
      "outputs": []
    },
    {
      "cell_type": "code",
      "source": [
        "def determine_tweet_type(tweet):\n",
        "    \"\"\"Return tweet type for further decision making.\"\"\"\n",
        "    # Check for reply indicator first\n",
        "    if tweet[\"in_reply_to_status_id\"] is not None:\n",
        "        tweet_type = \"Reply Tweet\"\n",
        "    # Check boolean quote status field and make sure it's not a RT of a Quote Tweet\n",
        "    elif tweet[\"is_quote_status\"] is True:\n",
        "        tweet_type = \"Quote Tweet\"\n",
        "    # Check both indicators of a Retweet\n",
        "    elif tweet[\"text\"].startswith(\"RT\") and tweet.get(\"retweeted_status\") is not None:\n",
        "        tweet_type = \"Retweet\"\n",
        "    else:\n",
        "        tweet_type = \"Source Tweet\"\n",
        "    return tweet_type"
      ],
      "metadata": {
        "id": "enSgx2oUCQOG"
      },
      "execution_count": 4,
      "outputs": []
    },
    {
      "cell_type": "code",
      "source": [
        "np.zeros(10, dtype=np.float32)"
      ],
      "metadata": {
        "colab": {
          "base_uri": "https://localhost:8080/"
        },
        "id": "W210Ne0cQcSs",
        "outputId": "8ae5fa2b-c2d4-49f3-83ba-8c617eba02e1"
      },
      "execution_count": 6,
      "outputs": [
        {
          "output_type": "execute_result",
          "data": {
            "text/plain": [
              "array([0., 0., 0., 0., 0., 0., 0., 0., 0., 0.], dtype=float32)"
            ]
          },
          "metadata": {},
          "execution_count": 6
        }
      ]
    },
    {
      "cell_type": "code",
      "source": [
        "def make_feature_from_user_profile(profile:dict)->np.array:\n",
        "    feature = np.zeros(10, dtype=np.float32)\n",
        "    est_date = datetime.fromisoformat('2006-03-21')\n",
        "    # 1) Verified?, 2) Enable geo-spatial positioning, 3) Followers count, 4) Friends count\n",
        "    vector = [int(profile['verified']), int(profile['geo_enabled']), profile['followers_count'], profile['friends_count']]\n",
        "\t# 5) Status count, 6) Favorite count, 7) Number of lists\n",
        "    vector += [profile['statuses_count'], profile['favourites_count'], profile['listed_count']]\n",
        "    # 8) Created time (No. of months since Twitter established)\n",
        "    user_date = datetime.strptime(profile['created_at'], '%a %b %d %H:%M:%S +0000 %Y')\n",
        "    month_diff = (user_date.year - est_date.year) * 12 + user_date.month - est_date.month\n",
        "    vector += [month_diff]\n",
        "    # 9) Number of words in the description, 10) Number of words in the screen name\n",
        "    vector += [len(profile['name'].split()), len(profile['description'].split())]\n",
        "    #feature = np.reshape(vector, (1, 10))\n",
        "    return vector"
      ],
      "metadata": {
        "id": "gks4zMkyPi6B"
      },
      "execution_count": 13,
      "outputs": []
    },
    {
      "cell_type": "code",
      "source": [
        "USER_KEY_MAP = {\n",
        "    'user_id': 'id', 'name': 'name', 'description': 'description',\n",
        "    'created_at': 'created_at', 'verified': 'verified',\n",
        "    'geo_enabled': 'geo_enabled', 'followers_count': 'followers_count',\n",
        "    'friends_count': 'friends_count', 'statuses_count': 'statuses_count',\n",
        "    'listed_count': 'listed_count'\n",
        "    }\n",
        "RETWEET_KEYS = ['user_id', 'retweet_id', 'created_at', 'tweet_id', 'source_user_id']\n",
        "TWEET_KEYS = ['tweet_id', 'created_at', 'user_id', 'text', 'retweet_count', 'favorite_count']\n",
        "\n",
        "def extract_tweet_data(tweet:dict)->dict:\n",
        "    \"\"\"Extracts tweet id, author id, timestamp, text, url if any.\"\"\"\n",
        "    tweet_payload = dict.fromkeys(TWEET_KEYS)\n",
        "    tweet_payload['tweet_id'] = tweet['id']\n",
        "    tweet_payload['created_at']= tweet['created_at']\n",
        "    tweet_payload['user_id'] = tweet['user']['id']\n",
        "    tweet_payload['text'] = tweet['text']\n",
        "    tweet_payload['retweet_count'] = tweet['retweet_count']\n",
        "    tweet_payload['favorite_count'] = tweet['favorite_count']\n",
        "    return tweet_payload\n",
        "\n",
        "def extract_user_data(tweet:dict)->dict:\n",
        "    \"\"\"\n",
        "    Extracts some of the user profile data\n",
        "    Input: tweet payload -> Dict\n",
        "    Output: user payload -> Dict\n",
        "    \"\"\"\n",
        "    user_payload = {key: tweet['user'][val] for key,val in USER_KEY_MAP.items()}\n",
        "    # The below is to decide whether to update an already existing user entry.\n",
        "    user_payload['recorded_at'] = tweet['created_at']\n",
        "    user_payload['engineered_features'] = make_feature_from_user_profile(tweet['user'])\n",
        "    return user_payload\n",
        "\n",
        "def extract_retweet_data(tweet:dict):\n",
        "    \"\"\"Extracts retweeting user id, status id, original status id\"\"\"\n",
        "    retweet_payload = dict.fromkeys(RETWEET_KEYS)\n",
        "    retweet_payload['user_id'] = tweet['user']['id']\n",
        "    retweet_payload['retweet_id'] = tweet['id']\n",
        "    retweet_payload['created_at'] = tweet['created_at']\n",
        "    retweet_payload['tweet_id'] = tweet['retweeted_status']['id']\n",
        "    retweet_payload['source_user_id'] = tweet['retweeted_status']['user']['id']\n",
        "    return retweet_payload\n",
        "\n",
        "def manage_retweet_extraction(tweet:dict)->dict:\n",
        "    \"\"\"\n",
        "    Gets data to reconstitute retweet graph.\n",
        "    Calls on functions to extract original tweet, original author data,\n",
        "    retweeting author data and retweet data\n",
        "    \"\"\"\n",
        "    retweet_payload = extract_retweet_data(tweet)\n",
        "    retweet_user_payload = extract_user_data(tweet)\n",
        "    source_tweet_payload = extract_tweet_data(tweet['retweeted_status'])\n",
        "    source_user_payload = extract_user_data(tweet['retweeted_status'])\n",
        "    return dict(\n",
        "        retweet_payload=retweet_payload,\n",
        "        retweet_user_payload=retweet_user_payload,\n",
        "        source_tweet_payload=source_tweet_payload,\n",
        "        source_user_payload=source_user_payload)\n",
        "\n",
        "def manage_tweet_extraction(tweet:dict)->dict:\n",
        "    \"\"\"\n",
        "    Gets data to document a post. Calls on functiont to extract tweet and\n",
        "    author data.\n",
        "    \"\"\"\n",
        "    tweet_payload = extract_tweet_data(tweet)\n",
        "    user_payload = extract_user_data(tweet)\n",
        "    return dict(\n",
        "        tweet_payload=tweet_payload, user_payload=user_payload)\n",
        "\n",
        "def manage_extraction(tweet_collection:List|Generator)->tuple:\n",
        "    \"\"\"\n",
        "    Creates and populates posts, users and retweet dataframes.\n",
        "    \"\"\"\n",
        "    retweet_rows, user_rows, tweet_rows = [], [], []\n",
        "    for i, tweet in enumerate(tweet_collection):\n",
        "        tweet_type = determine_tweet_type(tweet)\n",
        "        if tweet_type == 'Retweet':\n",
        "            payloads = manage_retweet_extraction(tweet)\n",
        "            # need to append payloads to d_posts(x1), d_users(x2), d_retweets(x1)\n",
        "            retweet_rows.append(payloads['retweet_payload'])\n",
        "            tweet_rows.append(payloads['source_tweet_payload'])\n",
        "            user_rows.append(payloads['retweet_user_payload'])\n",
        "            user_rows.append(payloads['source_user_payload'])\n",
        "\n",
        "        elif tweet_type == \"Source Tweet\":\n",
        "            payloads = manage_tweet_extraction(tweet)\n",
        "            tweet_rows.append(payloads['tweet_payload'])\n",
        "            user_rows.append(payloads['user_payload'])\n",
        "        else: continue\n",
        "    d_tweets = pd.DataFrame.from_dict(tweet_rows)\n",
        "    d_users = pd.DataFrame.from_dict(user_rows)\n",
        "    if retweet_rows:\n",
        "        d_retweets = pd.DataFrame.from_dict(retweet_rows)\n",
        "    return d_tweets, d_users, d_retweets"
      ],
      "metadata": {
        "id": "AIfICf8VAmms"
      },
      "execution_count": 8,
      "outputs": []
    },
    {
      "cell_type": "code",
      "source": [
        "def test_extract_tweet_data(sample_tweet:dict):\n",
        "    expected_payload = {\n",
        "        'tweet_id': 1656373983795728407,\n",
        "        'created_at': \"Wed May 10 19:01:46 +0000 2023\",\n",
        "        'text': \"Levallois : Bruno le Maire obligé de rentrer par les sous-sols pour assister à une réunion avec le patron de l’Oréa… https://t.co/nFSJRwfW65\",\n",
        "        'user_id': 1170759331719127041,\n",
        "        'retweet_count':  1507,\n",
        "        'favorite_count': 2574\n",
        "    }\n",
        "    current_payload = extract_tweet_data(sample_tweet['retweeted_status'])\n",
        "    assert current_payload == expected_payload\n",
        "\n",
        "def test_extract_user_data(sample_tweet:dict):\n",
        "    expected_payload = {\n",
        "        'user_id': 335979100,\n",
        "        'created_at': \"Fri Jul 15 15:13:58 +0000 2011\",\n",
        "        'name': \"olanno\",\n",
        "        'description': \"\",\n",
        "        'verified': False,\n",
        "        'geo_enabled': False,\n",
        "        'followers_count': 939,\n",
        "        'friends_count': 1712,\n",
        "        'statuses_count': 67078,\n",
        "        'recorded_at': \"Fri May 12 09:50:42 +0000 2023\",\n",
        "        'listed_count': 3,\n",
        "        'engineered_features': [0, 0, 939, 1712, 67078, 36727, 3, 64, 1, 0]\n",
        "    }\n",
        "    current_payload = extract_user_data(sample_tweet)\n",
        "    assert expected_payload == current_payload\n",
        "\n",
        "def test_extract_retweet_data(sample_tweet:dict):\n",
        "    expected_payload = {\n",
        "        'retweet_id': 1656960078145101824,\n",
        "        'created_at': \"Fri May 12 09:50:42 +0000 2023\",\n",
        "        'user_id': 335979100, # this is the retweeter (retweet's author)\n",
        "        'tweet_id': 1656373983795728407, # original tweet id\n",
        "        'source_user_id': 1170759331719127041, # original tweet author id\n",
        "    }\n",
        "    current_payload = extract_retweet_data(sample_tweet)\n",
        "    assert current_payload == expected_payload"
      ],
      "metadata": {
        "id": "PMspnP3bUWSb"
      },
      "execution_count": 23,
      "outputs": []
    },
    {
      "cell_type": "code",
      "source": [
        "with open(project_location / 'sample_retweet.json') as f:\n",
        "    tw = json.load(f)\n",
        "curr_payl = extract_user_data(tw)\n",
        "curr_payl"
      ],
      "metadata": {
        "colab": {
          "base_uri": "https://localhost:8080/"
        },
        "id": "tyHMT_4aThJP",
        "outputId": "b63c38cd-50eb-4b51-9216-98800d368622"
      },
      "execution_count": 24,
      "outputs": [
        {
          "output_type": "execute_result",
          "data": {
            "text/plain": [
              "{'user_id': 335979100,\n",
              " 'name': 'olanno',\n",
              " 'description': '',\n",
              " 'created_at': 'Fri Jul 15 15:13:58 +0000 2011',\n",
              " 'verified': False,\n",
              " 'geo_enabled': False,\n",
              " 'followers_count': 939,\n",
              " 'friends_count': 1712,\n",
              " 'statuses_count': 67078,\n",
              " 'listed_count': 3,\n",
              " 'recorded_at': 'Fri May 12 09:50:42 +0000 2023',\n",
              " 'engineered_features': [0, 0, 939, 1712, 67078, 36727, 3, 64, 1, 0]}"
            ]
          },
          "metadata": {},
          "execution_count": 24
        }
      ]
    },
    {
      "cell_type": "code",
      "source": [
        "def run_tests():\n",
        "    with open(project_location / 'sample_retweet.json') as f:\n",
        "        tw = json.load(f)\n",
        "    test_extract_tweet_data(tw)\n",
        "    test_extract_user_data(tw)\n",
        "    test_extract_retweet_data(tw)\n",
        "run_tests()"
      ],
      "metadata": {
        "id": "qfnDVetoGzcZ"
      },
      "execution_count": 30,
      "outputs": []
    },
    {
      "cell_type": "code",
      "source": [
        "files = tweet_folder.glob('*.json')\n",
        "file0 = next(files)\n",
        "with open(file0) as f0:\n",
        "    tweets = json.load(f0)"
      ],
      "metadata": {
        "id": "p0hWtCOIAhSC"
      },
      "execution_count": null,
      "outputs": []
    },
    {
      "cell_type": "code",
      "source": [
        "dtw, du, drt = manage_extraction(tweets)"
      ],
      "metadata": {
        "id": "fSRe8DvNaaU8"
      },
      "execution_count": null,
      "outputs": []
    },
    {
      "cell_type": "code",
      "source": [
        "dtw.head()"
      ],
      "metadata": {
        "colab": {
          "base_uri": "https://localhost:8080/",
          "height": 206
        },
        "id": "yMxLb3XbapAJ",
        "outputId": "4802e73f-6ec8-4101-8362-ffe673af7133"
      },
      "execution_count": null,
      "outputs": [
        {
          "output_type": "execute_result",
          "data": {
            "text/plain": [
              "              tweet_id                      created_at              user_id  \\\n",
              "0  1656373983795728407  Wed May 10 19:01:46 +0000 2023  1170759331719127041   \n",
              "1  1656253139169705986  Wed May 10 11:01:34 +0000 2023   845399351929294854   \n",
              "2  1656211220611883008  Wed May 10 08:15:00 +0000 2023   902982970558083076   \n",
              "3  1656322227183255553  Wed May 10 15:36:06 +0000 2023           2383844606   \n",
              "4  1655991651394027521  Tue May 09 17:42:31 +0000 2023             80820758   \n",
              "\n",
              "                                                text  retweet_count  \\\n",
              "0  Levallois : Bruno le Maire obligé de rentrer p...           1507   \n",
              "1  #casserolades en vue :\\nELIZABETH BORNE EST AT...            474   \n",
              "2  Il n’y a AUCUNE équivalence possible entre ext...           1024   \n",
              "3  Attaques en véhicule, à l’arme blanche, fusill...            505   \n",
              "4  Au #Sénégal le chef de l'opposition @SonkoOffi...           1627   \n",
              "\n",
              "   favorite_count  \n",
              "0            2574  \n",
              "1             617  \n",
              "2            2391  \n",
              "3             553  \n",
              "4            4502  "
            ],
            "text/html": [
              "\n",
              "  <div id=\"df-044f7bde-b25f-4b75-a095-e802c2cc41fd\" class=\"colab-df-container\">\n",
              "    <div>\n",
              "<style scoped>\n",
              "    .dataframe tbody tr th:only-of-type {\n",
              "        vertical-align: middle;\n",
              "    }\n",
              "\n",
              "    .dataframe tbody tr th {\n",
              "        vertical-align: top;\n",
              "    }\n",
              "\n",
              "    .dataframe thead th {\n",
              "        text-align: right;\n",
              "    }\n",
              "</style>\n",
              "<table border=\"1\" class=\"dataframe\">\n",
              "  <thead>\n",
              "    <tr style=\"text-align: right;\">\n",
              "      <th></th>\n",
              "      <th>tweet_id</th>\n",
              "      <th>created_at</th>\n",
              "      <th>user_id</th>\n",
              "      <th>text</th>\n",
              "      <th>retweet_count</th>\n",
              "      <th>favorite_count</th>\n",
              "    </tr>\n",
              "  </thead>\n",
              "  <tbody>\n",
              "    <tr>\n",
              "      <th>0</th>\n",
              "      <td>1656373983795728407</td>\n",
              "      <td>Wed May 10 19:01:46 +0000 2023</td>\n",
              "      <td>1170759331719127041</td>\n",
              "      <td>Levallois : Bruno le Maire obligé de rentrer p...</td>\n",
              "      <td>1507</td>\n",
              "      <td>2574</td>\n",
              "    </tr>\n",
              "    <tr>\n",
              "      <th>1</th>\n",
              "      <td>1656253139169705986</td>\n",
              "      <td>Wed May 10 11:01:34 +0000 2023</td>\n",
              "      <td>845399351929294854</td>\n",
              "      <td>#casserolades en vue :\\nELIZABETH BORNE EST AT...</td>\n",
              "      <td>474</td>\n",
              "      <td>617</td>\n",
              "    </tr>\n",
              "    <tr>\n",
              "      <th>2</th>\n",
              "      <td>1656211220611883008</td>\n",
              "      <td>Wed May 10 08:15:00 +0000 2023</td>\n",
              "      <td>902982970558083076</td>\n",
              "      <td>Il n’y a AUCUNE équivalence possible entre ext...</td>\n",
              "      <td>1024</td>\n",
              "      <td>2391</td>\n",
              "    </tr>\n",
              "    <tr>\n",
              "      <th>3</th>\n",
              "      <td>1656322227183255553</td>\n",
              "      <td>Wed May 10 15:36:06 +0000 2023</td>\n",
              "      <td>2383844606</td>\n",
              "      <td>Attaques en véhicule, à l’arme blanche, fusill...</td>\n",
              "      <td>505</td>\n",
              "      <td>553</td>\n",
              "    </tr>\n",
              "    <tr>\n",
              "      <th>4</th>\n",
              "      <td>1655991651394027521</td>\n",
              "      <td>Tue May 09 17:42:31 +0000 2023</td>\n",
              "      <td>80820758</td>\n",
              "      <td>Au #Sénégal le chef de l'opposition @SonkoOffi...</td>\n",
              "      <td>1627</td>\n",
              "      <td>4502</td>\n",
              "    </tr>\n",
              "  </tbody>\n",
              "</table>\n",
              "</div>\n",
              "    <div class=\"colab-df-buttons\">\n",
              "\n",
              "  <div class=\"colab-df-container\">\n",
              "    <button class=\"colab-df-convert\" onclick=\"convertToInteractive('df-044f7bde-b25f-4b75-a095-e802c2cc41fd')\"\n",
              "            title=\"Convert this dataframe to an interactive table.\"\n",
              "            style=\"display:none;\">\n",
              "\n",
              "  <svg xmlns=\"http://www.w3.org/2000/svg\" height=\"24px\" viewBox=\"0 -960 960 960\">\n",
              "    <path d=\"M120-120v-720h720v720H120Zm60-500h600v-160H180v160Zm220 220h160v-160H400v160Zm0 220h160v-160H400v160ZM180-400h160v-160H180v160Zm440 0h160v-160H620v160ZM180-180h160v-160H180v160Zm440 0h160v-160H620v160Z\"/>\n",
              "  </svg>\n",
              "    </button>\n",
              "\n",
              "  <style>\n",
              "    .colab-df-container {\n",
              "      display:flex;\n",
              "      gap: 12px;\n",
              "    }\n",
              "\n",
              "    .colab-df-convert {\n",
              "      background-color: #E8F0FE;\n",
              "      border: none;\n",
              "      border-radius: 50%;\n",
              "      cursor: pointer;\n",
              "      display: none;\n",
              "      fill: #1967D2;\n",
              "      height: 32px;\n",
              "      padding: 0 0 0 0;\n",
              "      width: 32px;\n",
              "    }\n",
              "\n",
              "    .colab-df-convert:hover {\n",
              "      background-color: #E2EBFA;\n",
              "      box-shadow: 0px 1px 2px rgba(60, 64, 67, 0.3), 0px 1px 3px 1px rgba(60, 64, 67, 0.15);\n",
              "      fill: #174EA6;\n",
              "    }\n",
              "\n",
              "    .colab-df-buttons div {\n",
              "      margin-bottom: 4px;\n",
              "    }\n",
              "\n",
              "    [theme=dark] .colab-df-convert {\n",
              "      background-color: #3B4455;\n",
              "      fill: #D2E3FC;\n",
              "    }\n",
              "\n",
              "    [theme=dark] .colab-df-convert:hover {\n",
              "      background-color: #434B5C;\n",
              "      box-shadow: 0px 1px 3px 1px rgba(0, 0, 0, 0.15);\n",
              "      filter: drop-shadow(0px 1px 2px rgba(0, 0, 0, 0.3));\n",
              "      fill: #FFFFFF;\n",
              "    }\n",
              "  </style>\n",
              "\n",
              "    <script>\n",
              "      const buttonEl =\n",
              "        document.querySelector('#df-044f7bde-b25f-4b75-a095-e802c2cc41fd button.colab-df-convert');\n",
              "      buttonEl.style.display =\n",
              "        google.colab.kernel.accessAllowed ? 'block' : 'none';\n",
              "\n",
              "      async function convertToInteractive(key) {\n",
              "        const element = document.querySelector('#df-044f7bde-b25f-4b75-a095-e802c2cc41fd');\n",
              "        const dataTable =\n",
              "          await google.colab.kernel.invokeFunction('convertToInteractive',\n",
              "                                                    [key], {});\n",
              "        if (!dataTable) return;\n",
              "\n",
              "        const docLinkHtml = 'Like what you see? Visit the ' +\n",
              "          '<a target=\"_blank\" href=https://colab.research.google.com/notebooks/data_table.ipynb>data table notebook</a>'\n",
              "          + ' to learn more about interactive tables.';\n",
              "        element.innerHTML = '';\n",
              "        dataTable['output_type'] = 'display_data';\n",
              "        await google.colab.output.renderOutput(dataTable, element);\n",
              "        const docLink = document.createElement('div');\n",
              "        docLink.innerHTML = docLinkHtml;\n",
              "        element.appendChild(docLink);\n",
              "      }\n",
              "    </script>\n",
              "  </div>\n",
              "\n",
              "\n",
              "<div id=\"df-8a249395-c0d6-4b6f-8ae2-d0d41d72a7f6\">\n",
              "  <button class=\"colab-df-quickchart\" onclick=\"quickchart('df-8a249395-c0d6-4b6f-8ae2-d0d41d72a7f6')\"\n",
              "            title=\"Suggest charts.\"\n",
              "            style=\"display:none;\">\n",
              "\n",
              "<svg xmlns=\"http://www.w3.org/2000/svg\" height=\"24px\"viewBox=\"0 0 24 24\"\n",
              "     width=\"24px\">\n",
              "    <g>\n",
              "        <path d=\"M19 3H5c-1.1 0-2 .9-2 2v14c0 1.1.9 2 2 2h14c1.1 0 2-.9 2-2V5c0-1.1-.9-2-2-2zM9 17H7v-7h2v7zm4 0h-2V7h2v10zm4 0h-2v-4h2v4z\"/>\n",
              "    </g>\n",
              "</svg>\n",
              "  </button>\n",
              "\n",
              "<style>\n",
              "  .colab-df-quickchart {\n",
              "      --bg-color: #E8F0FE;\n",
              "      --fill-color: #1967D2;\n",
              "      --hover-bg-color: #E2EBFA;\n",
              "      --hover-fill-color: #174EA6;\n",
              "      --disabled-fill-color: #AAA;\n",
              "      --disabled-bg-color: #DDD;\n",
              "  }\n",
              "\n",
              "  [theme=dark] .colab-df-quickchart {\n",
              "      --bg-color: #3B4455;\n",
              "      --fill-color: #D2E3FC;\n",
              "      --hover-bg-color: #434B5C;\n",
              "      --hover-fill-color: #FFFFFF;\n",
              "      --disabled-bg-color: #3B4455;\n",
              "      --disabled-fill-color: #666;\n",
              "  }\n",
              "\n",
              "  .colab-df-quickchart {\n",
              "    background-color: var(--bg-color);\n",
              "    border: none;\n",
              "    border-radius: 50%;\n",
              "    cursor: pointer;\n",
              "    display: none;\n",
              "    fill: var(--fill-color);\n",
              "    height: 32px;\n",
              "    padding: 0;\n",
              "    width: 32px;\n",
              "  }\n",
              "\n",
              "  .colab-df-quickchart:hover {\n",
              "    background-color: var(--hover-bg-color);\n",
              "    box-shadow: 0 1px 2px rgba(60, 64, 67, 0.3), 0 1px 3px 1px rgba(60, 64, 67, 0.15);\n",
              "    fill: var(--button-hover-fill-color);\n",
              "  }\n",
              "\n",
              "  .colab-df-quickchart-complete:disabled,\n",
              "  .colab-df-quickchart-complete:disabled:hover {\n",
              "    background-color: var(--disabled-bg-color);\n",
              "    fill: var(--disabled-fill-color);\n",
              "    box-shadow: none;\n",
              "  }\n",
              "\n",
              "  .colab-df-spinner {\n",
              "    border: 2px solid var(--fill-color);\n",
              "    border-color: transparent;\n",
              "    border-bottom-color: var(--fill-color);\n",
              "    animation:\n",
              "      spin 1s steps(1) infinite;\n",
              "  }\n",
              "\n",
              "  @keyframes spin {\n",
              "    0% {\n",
              "      border-color: transparent;\n",
              "      border-bottom-color: var(--fill-color);\n",
              "      border-left-color: var(--fill-color);\n",
              "    }\n",
              "    20% {\n",
              "      border-color: transparent;\n",
              "      border-left-color: var(--fill-color);\n",
              "      border-top-color: var(--fill-color);\n",
              "    }\n",
              "    30% {\n",
              "      border-color: transparent;\n",
              "      border-left-color: var(--fill-color);\n",
              "      border-top-color: var(--fill-color);\n",
              "      border-right-color: var(--fill-color);\n",
              "    }\n",
              "    40% {\n",
              "      border-color: transparent;\n",
              "      border-right-color: var(--fill-color);\n",
              "      border-top-color: var(--fill-color);\n",
              "    }\n",
              "    60% {\n",
              "      border-color: transparent;\n",
              "      border-right-color: var(--fill-color);\n",
              "    }\n",
              "    80% {\n",
              "      border-color: transparent;\n",
              "      border-right-color: var(--fill-color);\n",
              "      border-bottom-color: var(--fill-color);\n",
              "    }\n",
              "    90% {\n",
              "      border-color: transparent;\n",
              "      border-bottom-color: var(--fill-color);\n",
              "    }\n",
              "  }\n",
              "</style>\n",
              "\n",
              "  <script>\n",
              "    async function quickchart(key) {\n",
              "      const quickchartButtonEl =\n",
              "        document.querySelector('#' + key + ' button');\n",
              "      quickchartButtonEl.disabled = true;  // To prevent multiple clicks.\n",
              "      quickchartButtonEl.classList.add('colab-df-spinner');\n",
              "      try {\n",
              "        const charts = await google.colab.kernel.invokeFunction(\n",
              "            'suggestCharts', [key], {});\n",
              "      } catch (error) {\n",
              "        console.error('Error during call to suggestCharts:', error);\n",
              "      }\n",
              "      quickchartButtonEl.classList.remove('colab-df-spinner');\n",
              "      quickchartButtonEl.classList.add('colab-df-quickchart-complete');\n",
              "    }\n",
              "    (() => {\n",
              "      let quickchartButtonEl =\n",
              "        document.querySelector('#df-8a249395-c0d6-4b6f-8ae2-d0d41d72a7f6 button');\n",
              "      quickchartButtonEl.style.display =\n",
              "        google.colab.kernel.accessAllowed ? 'block' : 'none';\n",
              "    })();\n",
              "  </script>\n",
              "</div>\n",
              "    </div>\n",
              "  </div>\n"
            ]
          },
          "metadata": {},
          "execution_count": 73
        }
      ]
    },
    {
      "cell_type": "code",
      "source": [
        "dtw.info()"
      ],
      "metadata": {
        "colab": {
          "base_uri": "https://localhost:8080/"
        },
        "id": "Mbmx24z_avex",
        "outputId": "b62a91ba-c7d0-49a0-ccaa-a64a3e33c526"
      },
      "execution_count": null,
      "outputs": [
        {
          "output_type": "stream",
          "name": "stdout",
          "text": [
            "<class 'pandas.core.frame.DataFrame'>\n",
            "RangeIndex: 2622 entries, 0 to 2621\n",
            "Data columns (total 6 columns):\n",
            " #   Column          Non-Null Count  Dtype \n",
            "---  ------          --------------  ----- \n",
            " 0   tweet_id        2622 non-null   int64 \n",
            " 1   created_at      2622 non-null   object\n",
            " 2   user_id         2622 non-null   int64 \n",
            " 3   text            2622 non-null   object\n",
            " 4   retweet_count   2622 non-null   int64 \n",
            " 5   favorite_count  2622 non-null   int64 \n",
            "dtypes: int64(4), object(2)\n",
            "memory usage: 123.0+ KB\n"
          ]
        }
      ]
    },
    {
      "cell_type": "code",
      "source": [
        "dtw.duplicated().sum()"
      ],
      "metadata": {
        "colab": {
          "base_uri": "https://localhost:8080/"
        },
        "id": "GL5oc4EadKWU",
        "outputId": "dae92c11-1ece-4cde-d122-b6e2c24dbfd6"
      },
      "execution_count": null,
      "outputs": [
        {
          "output_type": "execute_result",
          "data": {
            "text/plain": [
              "0"
            ]
          },
          "metadata": {},
          "execution_count": 86
        }
      ]
    },
    {
      "cell_type": "code",
      "source": [
        "du.head()"
      ],
      "metadata": {
        "colab": {
          "base_uri": "https://localhost:8080/",
          "height": 293
        },
        "id": "IDBBVWKUa9Qk",
        "outputId": "389047bd-2b12-498d-c927-3c4162892aea"
      },
      "execution_count": null,
      "outputs": [
        {
          "output_type": "execute_result",
          "data": {
            "text/plain": [
              "               user_id              name  \\\n",
              "0            335979100            olanno   \n",
              "1  1170759331719127041  Réalité Actuelle   \n",
              "2            335979100            olanno   \n",
              "3   845399351929294854  Vilain Cégétiste   \n",
              "4            335979100            olanno   \n",
              "\n",
              "                                         description  \\\n",
              "0                                                      \n",
              "1                                                      \n",
              "2                                                      \n",
              "3  Bordélisateur CGT chez Tuifrance, militant syn...   \n",
              "4                                                      \n",
              "\n",
              "                       created_at  verified  geo_enabled  followers_count  \\\n",
              "0  Fri Jul 15 15:13:58 +0000 2011     False        False              939   \n",
              "1  Sun Sep 08 18:02:38 +0000 2019     False        False            15717   \n",
              "2  Fri Jul 15 15:13:58 +0000 2011     False        False              939   \n",
              "3  Fri Mar 24 22:18:07 +0000 2017     False        False             4513   \n",
              "4  Fri Jul 15 15:13:58 +0000 2011     False        False              939   \n",
              "\n",
              "   friends_count  statuses_count                     recorded_at  \n",
              "0           1712           67078  Fri May 12 09:50:42 +0000 2023  \n",
              "1           9345            6821  Wed May 10 19:01:46 +0000 2023  \n",
              "2           1712           67078  Wed May 10 17:40:03 +0000 2023  \n",
              "3           2035           14276  Wed May 10 11:01:34 +0000 2023  \n",
              "4           1712           67078  Wed May 10 17:39:45 +0000 2023  "
            ],
            "text/html": [
              "\n",
              "  <div id=\"df-74e10fc3-2e91-44e0-b7bd-83e2415f19ee\" class=\"colab-df-container\">\n",
              "    <div>\n",
              "<style scoped>\n",
              "    .dataframe tbody tr th:only-of-type {\n",
              "        vertical-align: middle;\n",
              "    }\n",
              "\n",
              "    .dataframe tbody tr th {\n",
              "        vertical-align: top;\n",
              "    }\n",
              "\n",
              "    .dataframe thead th {\n",
              "        text-align: right;\n",
              "    }\n",
              "</style>\n",
              "<table border=\"1\" class=\"dataframe\">\n",
              "  <thead>\n",
              "    <tr style=\"text-align: right;\">\n",
              "      <th></th>\n",
              "      <th>user_id</th>\n",
              "      <th>name</th>\n",
              "      <th>description</th>\n",
              "      <th>created_at</th>\n",
              "      <th>verified</th>\n",
              "      <th>geo_enabled</th>\n",
              "      <th>followers_count</th>\n",
              "      <th>friends_count</th>\n",
              "      <th>statuses_count</th>\n",
              "      <th>recorded_at</th>\n",
              "    </tr>\n",
              "  </thead>\n",
              "  <tbody>\n",
              "    <tr>\n",
              "      <th>0</th>\n",
              "      <td>335979100</td>\n",
              "      <td>olanno</td>\n",
              "      <td></td>\n",
              "      <td>Fri Jul 15 15:13:58 +0000 2011</td>\n",
              "      <td>False</td>\n",
              "      <td>False</td>\n",
              "      <td>939</td>\n",
              "      <td>1712</td>\n",
              "      <td>67078</td>\n",
              "      <td>Fri May 12 09:50:42 +0000 2023</td>\n",
              "    </tr>\n",
              "    <tr>\n",
              "      <th>1</th>\n",
              "      <td>1170759331719127041</td>\n",
              "      <td>Réalité Actuelle</td>\n",
              "      <td></td>\n",
              "      <td>Sun Sep 08 18:02:38 +0000 2019</td>\n",
              "      <td>False</td>\n",
              "      <td>False</td>\n",
              "      <td>15717</td>\n",
              "      <td>9345</td>\n",
              "      <td>6821</td>\n",
              "      <td>Wed May 10 19:01:46 +0000 2023</td>\n",
              "    </tr>\n",
              "    <tr>\n",
              "      <th>2</th>\n",
              "      <td>335979100</td>\n",
              "      <td>olanno</td>\n",
              "      <td></td>\n",
              "      <td>Fri Jul 15 15:13:58 +0000 2011</td>\n",
              "      <td>False</td>\n",
              "      <td>False</td>\n",
              "      <td>939</td>\n",
              "      <td>1712</td>\n",
              "      <td>67078</td>\n",
              "      <td>Wed May 10 17:40:03 +0000 2023</td>\n",
              "    </tr>\n",
              "    <tr>\n",
              "      <th>3</th>\n",
              "      <td>845399351929294854</td>\n",
              "      <td>Vilain Cégétiste</td>\n",
              "      <td>Bordélisateur CGT chez Tuifrance, militant syn...</td>\n",
              "      <td>Fri Mar 24 22:18:07 +0000 2017</td>\n",
              "      <td>False</td>\n",
              "      <td>False</td>\n",
              "      <td>4513</td>\n",
              "      <td>2035</td>\n",
              "      <td>14276</td>\n",
              "      <td>Wed May 10 11:01:34 +0000 2023</td>\n",
              "    </tr>\n",
              "    <tr>\n",
              "      <th>4</th>\n",
              "      <td>335979100</td>\n",
              "      <td>olanno</td>\n",
              "      <td></td>\n",
              "      <td>Fri Jul 15 15:13:58 +0000 2011</td>\n",
              "      <td>False</td>\n",
              "      <td>False</td>\n",
              "      <td>939</td>\n",
              "      <td>1712</td>\n",
              "      <td>67078</td>\n",
              "      <td>Wed May 10 17:39:45 +0000 2023</td>\n",
              "    </tr>\n",
              "  </tbody>\n",
              "</table>\n",
              "</div>\n",
              "    <div class=\"colab-df-buttons\">\n",
              "\n",
              "  <div class=\"colab-df-container\">\n",
              "    <button class=\"colab-df-convert\" onclick=\"convertToInteractive('df-74e10fc3-2e91-44e0-b7bd-83e2415f19ee')\"\n",
              "            title=\"Convert this dataframe to an interactive table.\"\n",
              "            style=\"display:none;\">\n",
              "\n",
              "  <svg xmlns=\"http://www.w3.org/2000/svg\" height=\"24px\" viewBox=\"0 -960 960 960\">\n",
              "    <path d=\"M120-120v-720h720v720H120Zm60-500h600v-160H180v160Zm220 220h160v-160H400v160Zm0 220h160v-160H400v160ZM180-400h160v-160H180v160Zm440 0h160v-160H620v160ZM180-180h160v-160H180v160Zm440 0h160v-160H620v160Z\"/>\n",
              "  </svg>\n",
              "    </button>\n",
              "\n",
              "  <style>\n",
              "    .colab-df-container {\n",
              "      display:flex;\n",
              "      gap: 12px;\n",
              "    }\n",
              "\n",
              "    .colab-df-convert {\n",
              "      background-color: #E8F0FE;\n",
              "      border: none;\n",
              "      border-radius: 50%;\n",
              "      cursor: pointer;\n",
              "      display: none;\n",
              "      fill: #1967D2;\n",
              "      height: 32px;\n",
              "      padding: 0 0 0 0;\n",
              "      width: 32px;\n",
              "    }\n",
              "\n",
              "    .colab-df-convert:hover {\n",
              "      background-color: #E2EBFA;\n",
              "      box-shadow: 0px 1px 2px rgba(60, 64, 67, 0.3), 0px 1px 3px 1px rgba(60, 64, 67, 0.15);\n",
              "      fill: #174EA6;\n",
              "    }\n",
              "\n",
              "    .colab-df-buttons div {\n",
              "      margin-bottom: 4px;\n",
              "    }\n",
              "\n",
              "    [theme=dark] .colab-df-convert {\n",
              "      background-color: #3B4455;\n",
              "      fill: #D2E3FC;\n",
              "    }\n",
              "\n",
              "    [theme=dark] .colab-df-convert:hover {\n",
              "      background-color: #434B5C;\n",
              "      box-shadow: 0px 1px 3px 1px rgba(0, 0, 0, 0.15);\n",
              "      filter: drop-shadow(0px 1px 2px rgba(0, 0, 0, 0.3));\n",
              "      fill: #FFFFFF;\n",
              "    }\n",
              "  </style>\n",
              "\n",
              "    <script>\n",
              "      const buttonEl =\n",
              "        document.querySelector('#df-74e10fc3-2e91-44e0-b7bd-83e2415f19ee button.colab-df-convert');\n",
              "      buttonEl.style.display =\n",
              "        google.colab.kernel.accessAllowed ? 'block' : 'none';\n",
              "\n",
              "      async function convertToInteractive(key) {\n",
              "        const element = document.querySelector('#df-74e10fc3-2e91-44e0-b7bd-83e2415f19ee');\n",
              "        const dataTable =\n",
              "          await google.colab.kernel.invokeFunction('convertToInteractive',\n",
              "                                                    [key], {});\n",
              "        if (!dataTable) return;\n",
              "\n",
              "        const docLinkHtml = 'Like what you see? Visit the ' +\n",
              "          '<a target=\"_blank\" href=https://colab.research.google.com/notebooks/data_table.ipynb>data table notebook</a>'\n",
              "          + ' to learn more about interactive tables.';\n",
              "        element.innerHTML = '';\n",
              "        dataTable['output_type'] = 'display_data';\n",
              "        await google.colab.output.renderOutput(dataTable, element);\n",
              "        const docLink = document.createElement('div');\n",
              "        docLink.innerHTML = docLinkHtml;\n",
              "        element.appendChild(docLink);\n",
              "      }\n",
              "    </script>\n",
              "  </div>\n",
              "\n",
              "\n",
              "<div id=\"df-6fcf1b07-5b38-43cf-bc5a-e54f1cee6643\">\n",
              "  <button class=\"colab-df-quickchart\" onclick=\"quickchart('df-6fcf1b07-5b38-43cf-bc5a-e54f1cee6643')\"\n",
              "            title=\"Suggest charts.\"\n",
              "            style=\"display:none;\">\n",
              "\n",
              "<svg xmlns=\"http://www.w3.org/2000/svg\" height=\"24px\"viewBox=\"0 0 24 24\"\n",
              "     width=\"24px\">\n",
              "    <g>\n",
              "        <path d=\"M19 3H5c-1.1 0-2 .9-2 2v14c0 1.1.9 2 2 2h14c1.1 0 2-.9 2-2V5c0-1.1-.9-2-2-2zM9 17H7v-7h2v7zm4 0h-2V7h2v10zm4 0h-2v-4h2v4z\"/>\n",
              "    </g>\n",
              "</svg>\n",
              "  </button>\n",
              "\n",
              "<style>\n",
              "  .colab-df-quickchart {\n",
              "      --bg-color: #E8F0FE;\n",
              "      --fill-color: #1967D2;\n",
              "      --hover-bg-color: #E2EBFA;\n",
              "      --hover-fill-color: #174EA6;\n",
              "      --disabled-fill-color: #AAA;\n",
              "      --disabled-bg-color: #DDD;\n",
              "  }\n",
              "\n",
              "  [theme=dark] .colab-df-quickchart {\n",
              "      --bg-color: #3B4455;\n",
              "      --fill-color: #D2E3FC;\n",
              "      --hover-bg-color: #434B5C;\n",
              "      --hover-fill-color: #FFFFFF;\n",
              "      --disabled-bg-color: #3B4455;\n",
              "      --disabled-fill-color: #666;\n",
              "  }\n",
              "\n",
              "  .colab-df-quickchart {\n",
              "    background-color: var(--bg-color);\n",
              "    border: none;\n",
              "    border-radius: 50%;\n",
              "    cursor: pointer;\n",
              "    display: none;\n",
              "    fill: var(--fill-color);\n",
              "    height: 32px;\n",
              "    padding: 0;\n",
              "    width: 32px;\n",
              "  }\n",
              "\n",
              "  .colab-df-quickchart:hover {\n",
              "    background-color: var(--hover-bg-color);\n",
              "    box-shadow: 0 1px 2px rgba(60, 64, 67, 0.3), 0 1px 3px 1px rgba(60, 64, 67, 0.15);\n",
              "    fill: var(--button-hover-fill-color);\n",
              "  }\n",
              "\n",
              "  .colab-df-quickchart-complete:disabled,\n",
              "  .colab-df-quickchart-complete:disabled:hover {\n",
              "    background-color: var(--disabled-bg-color);\n",
              "    fill: var(--disabled-fill-color);\n",
              "    box-shadow: none;\n",
              "  }\n",
              "\n",
              "  .colab-df-spinner {\n",
              "    border: 2px solid var(--fill-color);\n",
              "    border-color: transparent;\n",
              "    border-bottom-color: var(--fill-color);\n",
              "    animation:\n",
              "      spin 1s steps(1) infinite;\n",
              "  }\n",
              "\n",
              "  @keyframes spin {\n",
              "    0% {\n",
              "      border-color: transparent;\n",
              "      border-bottom-color: var(--fill-color);\n",
              "      border-left-color: var(--fill-color);\n",
              "    }\n",
              "    20% {\n",
              "      border-color: transparent;\n",
              "      border-left-color: var(--fill-color);\n",
              "      border-top-color: var(--fill-color);\n",
              "    }\n",
              "    30% {\n",
              "      border-color: transparent;\n",
              "      border-left-color: var(--fill-color);\n",
              "      border-top-color: var(--fill-color);\n",
              "      border-right-color: var(--fill-color);\n",
              "    }\n",
              "    40% {\n",
              "      border-color: transparent;\n",
              "      border-right-color: var(--fill-color);\n",
              "      border-top-color: var(--fill-color);\n",
              "    }\n",
              "    60% {\n",
              "      border-color: transparent;\n",
              "      border-right-color: var(--fill-color);\n",
              "    }\n",
              "    80% {\n",
              "      border-color: transparent;\n",
              "      border-right-color: var(--fill-color);\n",
              "      border-bottom-color: var(--fill-color);\n",
              "    }\n",
              "    90% {\n",
              "      border-color: transparent;\n",
              "      border-bottom-color: var(--fill-color);\n",
              "    }\n",
              "  }\n",
              "</style>\n",
              "\n",
              "  <script>\n",
              "    async function quickchart(key) {\n",
              "      const quickchartButtonEl =\n",
              "        document.querySelector('#' + key + ' button');\n",
              "      quickchartButtonEl.disabled = true;  // To prevent multiple clicks.\n",
              "      quickchartButtonEl.classList.add('colab-df-spinner');\n",
              "      try {\n",
              "        const charts = await google.colab.kernel.invokeFunction(\n",
              "            'suggestCharts', [key], {});\n",
              "      } catch (error) {\n",
              "        console.error('Error during call to suggestCharts:', error);\n",
              "      }\n",
              "      quickchartButtonEl.classList.remove('colab-df-spinner');\n",
              "      quickchartButtonEl.classList.add('colab-df-quickchart-complete');\n",
              "    }\n",
              "    (() => {\n",
              "      let quickchartButtonEl =\n",
              "        document.querySelector('#df-6fcf1b07-5b38-43cf-bc5a-e54f1cee6643 button');\n",
              "      quickchartButtonEl.style.display =\n",
              "        google.colab.kernel.accessAllowed ? 'block' : 'none';\n",
              "    })();\n",
              "  </script>\n",
              "</div>\n",
              "    </div>\n",
              "  </div>\n"
            ]
          },
          "metadata": {},
          "execution_count": 75
        }
      ]
    },
    {
      "cell_type": "code",
      "source": [
        "du.info()"
      ],
      "metadata": {
        "colab": {
          "base_uri": "https://localhost:8080/"
        },
        "id": "r6YUjoOCbHP9",
        "outputId": "cf94e4cd-8be8-4787-f856-5c9a4c4f06c7"
      },
      "execution_count": null,
      "outputs": [
        {
          "output_type": "stream",
          "name": "stdout",
          "text": [
            "<class 'pandas.core.frame.DataFrame'>\n",
            "RangeIndex: 5225 entries, 0 to 5224\n",
            "Data columns (total 10 columns):\n",
            " #   Column           Non-Null Count  Dtype \n",
            "---  ------           --------------  ----- \n",
            " 0   user_id          5225 non-null   int64 \n",
            " 1   name             5225 non-null   object\n",
            " 2   description      5225 non-null   object\n",
            " 3   created_at       5225 non-null   object\n",
            " 4   verified         5225 non-null   bool  \n",
            " 5   geo_enabled      5225 non-null   bool  \n",
            " 6   followers_count  5225 non-null   int64 \n",
            " 7   friends_count    5225 non-null   int64 \n",
            " 8   statuses_count   5225 non-null   int64 \n",
            " 9   recorded_at      5225 non-null   object\n",
            "dtypes: bool(2), int64(4), object(4)\n",
            "memory usage: 336.9+ KB\n"
          ]
        }
      ]
    },
    {
      "cell_type": "code",
      "source": [
        "du.drop_duplicates(subset=USER_KEY_MAP, keep='first').head()"
      ],
      "metadata": {
        "colab": {
          "base_uri": "https://localhost:8080/",
          "height": 327
        },
        "id": "BVvtnoW5bQzf",
        "outputId": "49ffe18d-9366-4e34-d96c-0bd11ed52c8e"
      },
      "execution_count": null,
      "outputs": [
        {
          "output_type": "execute_result",
          "data": {
            "text/plain": [
              "               user_id              name  \\\n",
              "0            335979100            olanno   \n",
              "1  1170759331719127041  Réalité Actuelle   \n",
              "3   845399351929294854  Vilain Cégétiste   \n",
              "5   902982970558083076     Mathieu Slama   \n",
              "7           2383844606     Thomas Portes   \n",
              "\n",
              "                                         description  \\\n",
              "0                                                      \n",
              "1                                                      \n",
              "3  Bordélisateur CGT chez Tuifrance, militant syn...   \n",
              "5  Essayiste, auteur « Adieu la liberté » aux @Pr...   \n",
              "7  Cheminot - Député LFI-NUPES - CGT 3ème circo d...   \n",
              "\n",
              "                       created_at  verified  geo_enabled  followers_count  \\\n",
              "0  Fri Jul 15 15:13:58 +0000 2011     False        False              939   \n",
              "1  Sun Sep 08 18:02:38 +0000 2019     False        False            15717   \n",
              "3  Fri Mar 24 22:18:07 +0000 2017     False        False             4513   \n",
              "5  Wed Aug 30 19:54:51 +0000 2017     False        False            40325   \n",
              "7  Tue Mar 11 14:58:13 +0000 2014     False         True            88767   \n",
              "\n",
              "   friends_count  statuses_count                     recorded_at  \n",
              "0           1712           67078  Fri May 12 09:50:42 +0000 2023  \n",
              "1           9345            6821  Wed May 10 19:01:46 +0000 2023  \n",
              "3           2035           14276  Wed May 10 11:01:34 +0000 2023  \n",
              "5           1409            7621  Wed May 10 08:15:00 +0000 2023  \n",
              "7           7343           41836  Wed May 10 15:36:06 +0000 2023  "
            ],
            "text/html": [
              "\n",
              "  <div id=\"df-07811f58-ca09-43b6-a372-a7ea22d7bfbb\" class=\"colab-df-container\">\n",
              "    <div>\n",
              "<style scoped>\n",
              "    .dataframe tbody tr th:only-of-type {\n",
              "        vertical-align: middle;\n",
              "    }\n",
              "\n",
              "    .dataframe tbody tr th {\n",
              "        vertical-align: top;\n",
              "    }\n",
              "\n",
              "    .dataframe thead th {\n",
              "        text-align: right;\n",
              "    }\n",
              "</style>\n",
              "<table border=\"1\" class=\"dataframe\">\n",
              "  <thead>\n",
              "    <tr style=\"text-align: right;\">\n",
              "      <th></th>\n",
              "      <th>user_id</th>\n",
              "      <th>name</th>\n",
              "      <th>description</th>\n",
              "      <th>created_at</th>\n",
              "      <th>verified</th>\n",
              "      <th>geo_enabled</th>\n",
              "      <th>followers_count</th>\n",
              "      <th>friends_count</th>\n",
              "      <th>statuses_count</th>\n",
              "      <th>recorded_at</th>\n",
              "    </tr>\n",
              "  </thead>\n",
              "  <tbody>\n",
              "    <tr>\n",
              "      <th>0</th>\n",
              "      <td>335979100</td>\n",
              "      <td>olanno</td>\n",
              "      <td></td>\n",
              "      <td>Fri Jul 15 15:13:58 +0000 2011</td>\n",
              "      <td>False</td>\n",
              "      <td>False</td>\n",
              "      <td>939</td>\n",
              "      <td>1712</td>\n",
              "      <td>67078</td>\n",
              "      <td>Fri May 12 09:50:42 +0000 2023</td>\n",
              "    </tr>\n",
              "    <tr>\n",
              "      <th>1</th>\n",
              "      <td>1170759331719127041</td>\n",
              "      <td>Réalité Actuelle</td>\n",
              "      <td></td>\n",
              "      <td>Sun Sep 08 18:02:38 +0000 2019</td>\n",
              "      <td>False</td>\n",
              "      <td>False</td>\n",
              "      <td>15717</td>\n",
              "      <td>9345</td>\n",
              "      <td>6821</td>\n",
              "      <td>Wed May 10 19:01:46 +0000 2023</td>\n",
              "    </tr>\n",
              "    <tr>\n",
              "      <th>3</th>\n",
              "      <td>845399351929294854</td>\n",
              "      <td>Vilain Cégétiste</td>\n",
              "      <td>Bordélisateur CGT chez Tuifrance, militant syn...</td>\n",
              "      <td>Fri Mar 24 22:18:07 +0000 2017</td>\n",
              "      <td>False</td>\n",
              "      <td>False</td>\n",
              "      <td>4513</td>\n",
              "      <td>2035</td>\n",
              "      <td>14276</td>\n",
              "      <td>Wed May 10 11:01:34 +0000 2023</td>\n",
              "    </tr>\n",
              "    <tr>\n",
              "      <th>5</th>\n",
              "      <td>902982970558083076</td>\n",
              "      <td>Mathieu Slama</td>\n",
              "      <td>Essayiste, auteur « Adieu la liberté » aux @Pr...</td>\n",
              "      <td>Wed Aug 30 19:54:51 +0000 2017</td>\n",
              "      <td>False</td>\n",
              "      <td>False</td>\n",
              "      <td>40325</td>\n",
              "      <td>1409</td>\n",
              "      <td>7621</td>\n",
              "      <td>Wed May 10 08:15:00 +0000 2023</td>\n",
              "    </tr>\n",
              "    <tr>\n",
              "      <th>7</th>\n",
              "      <td>2383844606</td>\n",
              "      <td>Thomas Portes</td>\n",
              "      <td>Cheminot - Député LFI-NUPES - CGT 3ème circo d...</td>\n",
              "      <td>Tue Mar 11 14:58:13 +0000 2014</td>\n",
              "      <td>False</td>\n",
              "      <td>True</td>\n",
              "      <td>88767</td>\n",
              "      <td>7343</td>\n",
              "      <td>41836</td>\n",
              "      <td>Wed May 10 15:36:06 +0000 2023</td>\n",
              "    </tr>\n",
              "  </tbody>\n",
              "</table>\n",
              "</div>\n",
              "    <div class=\"colab-df-buttons\">\n",
              "\n",
              "  <div class=\"colab-df-container\">\n",
              "    <button class=\"colab-df-convert\" onclick=\"convertToInteractive('df-07811f58-ca09-43b6-a372-a7ea22d7bfbb')\"\n",
              "            title=\"Convert this dataframe to an interactive table.\"\n",
              "            style=\"display:none;\">\n",
              "\n",
              "  <svg xmlns=\"http://www.w3.org/2000/svg\" height=\"24px\" viewBox=\"0 -960 960 960\">\n",
              "    <path d=\"M120-120v-720h720v720H120Zm60-500h600v-160H180v160Zm220 220h160v-160H400v160Zm0 220h160v-160H400v160ZM180-400h160v-160H180v160Zm440 0h160v-160H620v160ZM180-180h160v-160H180v160Zm440 0h160v-160H620v160Z\"/>\n",
              "  </svg>\n",
              "    </button>\n",
              "\n",
              "  <style>\n",
              "    .colab-df-container {\n",
              "      display:flex;\n",
              "      gap: 12px;\n",
              "    }\n",
              "\n",
              "    .colab-df-convert {\n",
              "      background-color: #E8F0FE;\n",
              "      border: none;\n",
              "      border-radius: 50%;\n",
              "      cursor: pointer;\n",
              "      display: none;\n",
              "      fill: #1967D2;\n",
              "      height: 32px;\n",
              "      padding: 0 0 0 0;\n",
              "      width: 32px;\n",
              "    }\n",
              "\n",
              "    .colab-df-convert:hover {\n",
              "      background-color: #E2EBFA;\n",
              "      box-shadow: 0px 1px 2px rgba(60, 64, 67, 0.3), 0px 1px 3px 1px rgba(60, 64, 67, 0.15);\n",
              "      fill: #174EA6;\n",
              "    }\n",
              "\n",
              "    .colab-df-buttons div {\n",
              "      margin-bottom: 4px;\n",
              "    }\n",
              "\n",
              "    [theme=dark] .colab-df-convert {\n",
              "      background-color: #3B4455;\n",
              "      fill: #D2E3FC;\n",
              "    }\n",
              "\n",
              "    [theme=dark] .colab-df-convert:hover {\n",
              "      background-color: #434B5C;\n",
              "      box-shadow: 0px 1px 3px 1px rgba(0, 0, 0, 0.15);\n",
              "      filter: drop-shadow(0px 1px 2px rgba(0, 0, 0, 0.3));\n",
              "      fill: #FFFFFF;\n",
              "    }\n",
              "  </style>\n",
              "\n",
              "    <script>\n",
              "      const buttonEl =\n",
              "        document.querySelector('#df-07811f58-ca09-43b6-a372-a7ea22d7bfbb button.colab-df-convert');\n",
              "      buttonEl.style.display =\n",
              "        google.colab.kernel.accessAllowed ? 'block' : 'none';\n",
              "\n",
              "      async function convertToInteractive(key) {\n",
              "        const element = document.querySelector('#df-07811f58-ca09-43b6-a372-a7ea22d7bfbb');\n",
              "        const dataTable =\n",
              "          await google.colab.kernel.invokeFunction('convertToInteractive',\n",
              "                                                    [key], {});\n",
              "        if (!dataTable) return;\n",
              "\n",
              "        const docLinkHtml = 'Like what you see? Visit the ' +\n",
              "          '<a target=\"_blank\" href=https://colab.research.google.com/notebooks/data_table.ipynb>data table notebook</a>'\n",
              "          + ' to learn more about interactive tables.';\n",
              "        element.innerHTML = '';\n",
              "        dataTable['output_type'] = 'display_data';\n",
              "        await google.colab.output.renderOutput(dataTable, element);\n",
              "        const docLink = document.createElement('div');\n",
              "        docLink.innerHTML = docLinkHtml;\n",
              "        element.appendChild(docLink);\n",
              "      }\n",
              "    </script>\n",
              "  </div>\n",
              "\n",
              "\n",
              "<div id=\"df-d2871cc1-ae23-4a63-916c-29051d898d7c\">\n",
              "  <button class=\"colab-df-quickchart\" onclick=\"quickchart('df-d2871cc1-ae23-4a63-916c-29051d898d7c')\"\n",
              "            title=\"Suggest charts.\"\n",
              "            style=\"display:none;\">\n",
              "\n",
              "<svg xmlns=\"http://www.w3.org/2000/svg\" height=\"24px\"viewBox=\"0 0 24 24\"\n",
              "     width=\"24px\">\n",
              "    <g>\n",
              "        <path d=\"M19 3H5c-1.1 0-2 .9-2 2v14c0 1.1.9 2 2 2h14c1.1 0 2-.9 2-2V5c0-1.1-.9-2-2-2zM9 17H7v-7h2v7zm4 0h-2V7h2v10zm4 0h-2v-4h2v4z\"/>\n",
              "    </g>\n",
              "</svg>\n",
              "  </button>\n",
              "\n",
              "<style>\n",
              "  .colab-df-quickchart {\n",
              "      --bg-color: #E8F0FE;\n",
              "      --fill-color: #1967D2;\n",
              "      --hover-bg-color: #E2EBFA;\n",
              "      --hover-fill-color: #174EA6;\n",
              "      --disabled-fill-color: #AAA;\n",
              "      --disabled-bg-color: #DDD;\n",
              "  }\n",
              "\n",
              "  [theme=dark] .colab-df-quickchart {\n",
              "      --bg-color: #3B4455;\n",
              "      --fill-color: #D2E3FC;\n",
              "      --hover-bg-color: #434B5C;\n",
              "      --hover-fill-color: #FFFFFF;\n",
              "      --disabled-bg-color: #3B4455;\n",
              "      --disabled-fill-color: #666;\n",
              "  }\n",
              "\n",
              "  .colab-df-quickchart {\n",
              "    background-color: var(--bg-color);\n",
              "    border: none;\n",
              "    border-radius: 50%;\n",
              "    cursor: pointer;\n",
              "    display: none;\n",
              "    fill: var(--fill-color);\n",
              "    height: 32px;\n",
              "    padding: 0;\n",
              "    width: 32px;\n",
              "  }\n",
              "\n",
              "  .colab-df-quickchart:hover {\n",
              "    background-color: var(--hover-bg-color);\n",
              "    box-shadow: 0 1px 2px rgba(60, 64, 67, 0.3), 0 1px 3px 1px rgba(60, 64, 67, 0.15);\n",
              "    fill: var(--button-hover-fill-color);\n",
              "  }\n",
              "\n",
              "  .colab-df-quickchart-complete:disabled,\n",
              "  .colab-df-quickchart-complete:disabled:hover {\n",
              "    background-color: var(--disabled-bg-color);\n",
              "    fill: var(--disabled-fill-color);\n",
              "    box-shadow: none;\n",
              "  }\n",
              "\n",
              "  .colab-df-spinner {\n",
              "    border: 2px solid var(--fill-color);\n",
              "    border-color: transparent;\n",
              "    border-bottom-color: var(--fill-color);\n",
              "    animation:\n",
              "      spin 1s steps(1) infinite;\n",
              "  }\n",
              "\n",
              "  @keyframes spin {\n",
              "    0% {\n",
              "      border-color: transparent;\n",
              "      border-bottom-color: var(--fill-color);\n",
              "      border-left-color: var(--fill-color);\n",
              "    }\n",
              "    20% {\n",
              "      border-color: transparent;\n",
              "      border-left-color: var(--fill-color);\n",
              "      border-top-color: var(--fill-color);\n",
              "    }\n",
              "    30% {\n",
              "      border-color: transparent;\n",
              "      border-left-color: var(--fill-color);\n",
              "      border-top-color: var(--fill-color);\n",
              "      border-right-color: var(--fill-color);\n",
              "    }\n",
              "    40% {\n",
              "      border-color: transparent;\n",
              "      border-right-color: var(--fill-color);\n",
              "      border-top-color: var(--fill-color);\n",
              "    }\n",
              "    60% {\n",
              "      border-color: transparent;\n",
              "      border-right-color: var(--fill-color);\n",
              "    }\n",
              "    80% {\n",
              "      border-color: transparent;\n",
              "      border-right-color: var(--fill-color);\n",
              "      border-bottom-color: var(--fill-color);\n",
              "    }\n",
              "    90% {\n",
              "      border-color: transparent;\n",
              "      border-bottom-color: var(--fill-color);\n",
              "    }\n",
              "  }\n",
              "</style>\n",
              "\n",
              "  <script>\n",
              "    async function quickchart(key) {\n",
              "      const quickchartButtonEl =\n",
              "        document.querySelector('#' + key + ' button');\n",
              "      quickchartButtonEl.disabled = true;  // To prevent multiple clicks.\n",
              "      quickchartButtonEl.classList.add('colab-df-spinner');\n",
              "      try {\n",
              "        const charts = await google.colab.kernel.invokeFunction(\n",
              "            'suggestCharts', [key], {});\n",
              "      } catch (error) {\n",
              "        console.error('Error during call to suggestCharts:', error);\n",
              "      }\n",
              "      quickchartButtonEl.classList.remove('colab-df-spinner');\n",
              "      quickchartButtonEl.classList.add('colab-df-quickchart-complete');\n",
              "    }\n",
              "    (() => {\n",
              "      let quickchartButtonEl =\n",
              "        document.querySelector('#df-d2871cc1-ae23-4a63-916c-29051d898d7c button');\n",
              "      quickchartButtonEl.style.display =\n",
              "        google.colab.kernel.accessAllowed ? 'block' : 'none';\n",
              "    })();\n",
              "  </script>\n",
              "</div>\n",
              "    </div>\n",
              "  </div>\n"
            ]
          },
          "metadata": {},
          "execution_count": 81
        }
      ]
    },
    {
      "cell_type": "code",
      "source": [
        "drt.head()\n"
      ],
      "metadata": {
        "colab": {
          "base_uri": "https://localhost:8080/",
          "height": 206
        },
        "id": "C5xup6m3c2Yy",
        "outputId": "323dcc2d-ad21-4710-8f08-43367c754f4b"
      },
      "execution_count": null,
      "outputs": [
        {
          "output_type": "execute_result",
          "data": {
            "text/plain": [
              "     user_id           retweet_id                      created_at  \\\n",
              "0  335979100  1656960078145101824  Fri May 12 09:50:42 +0000 2023   \n",
              "1  335979100  1656353419328647169  Wed May 10 17:40:03 +0000 2023   \n",
              "2  335979100  1656353342686130181  Wed May 10 17:39:45 +0000 2023   \n",
              "3  335979100  1656353289364021249  Wed May 10 17:39:32 +0000 2023   \n",
              "4  335979100  1656353137706369026  Wed May 10 17:38:56 +0000 2023   \n",
              "\n",
              "              tweet_id       source_user_id  \n",
              "0  1656373983795728407  1170759331719127041  \n",
              "1  1656253139169705986   845399351929294854  \n",
              "2  1656211220611883008   902982970558083076  \n",
              "3  1656322227183255553           2383844606  \n",
              "4  1655991651394027521             80820758  "
            ],
            "text/html": [
              "\n",
              "  <div id=\"df-d69c3f0f-bf4c-40af-80b3-513667a405a1\" class=\"colab-df-container\">\n",
              "    <div>\n",
              "<style scoped>\n",
              "    .dataframe tbody tr th:only-of-type {\n",
              "        vertical-align: middle;\n",
              "    }\n",
              "\n",
              "    .dataframe tbody tr th {\n",
              "        vertical-align: top;\n",
              "    }\n",
              "\n",
              "    .dataframe thead th {\n",
              "        text-align: right;\n",
              "    }\n",
              "</style>\n",
              "<table border=\"1\" class=\"dataframe\">\n",
              "  <thead>\n",
              "    <tr style=\"text-align: right;\">\n",
              "      <th></th>\n",
              "      <th>user_id</th>\n",
              "      <th>retweet_id</th>\n",
              "      <th>created_at</th>\n",
              "      <th>tweet_id</th>\n",
              "      <th>source_user_id</th>\n",
              "    </tr>\n",
              "  </thead>\n",
              "  <tbody>\n",
              "    <tr>\n",
              "      <th>0</th>\n",
              "      <td>335979100</td>\n",
              "      <td>1656960078145101824</td>\n",
              "      <td>Fri May 12 09:50:42 +0000 2023</td>\n",
              "      <td>1656373983795728407</td>\n",
              "      <td>1170759331719127041</td>\n",
              "    </tr>\n",
              "    <tr>\n",
              "      <th>1</th>\n",
              "      <td>335979100</td>\n",
              "      <td>1656353419328647169</td>\n",
              "      <td>Wed May 10 17:40:03 +0000 2023</td>\n",
              "      <td>1656253139169705986</td>\n",
              "      <td>845399351929294854</td>\n",
              "    </tr>\n",
              "    <tr>\n",
              "      <th>2</th>\n",
              "      <td>335979100</td>\n",
              "      <td>1656353342686130181</td>\n",
              "      <td>Wed May 10 17:39:45 +0000 2023</td>\n",
              "      <td>1656211220611883008</td>\n",
              "      <td>902982970558083076</td>\n",
              "    </tr>\n",
              "    <tr>\n",
              "      <th>3</th>\n",
              "      <td>335979100</td>\n",
              "      <td>1656353289364021249</td>\n",
              "      <td>Wed May 10 17:39:32 +0000 2023</td>\n",
              "      <td>1656322227183255553</td>\n",
              "      <td>2383844606</td>\n",
              "    </tr>\n",
              "    <tr>\n",
              "      <th>4</th>\n",
              "      <td>335979100</td>\n",
              "      <td>1656353137706369026</td>\n",
              "      <td>Wed May 10 17:38:56 +0000 2023</td>\n",
              "      <td>1655991651394027521</td>\n",
              "      <td>80820758</td>\n",
              "    </tr>\n",
              "  </tbody>\n",
              "</table>\n",
              "</div>\n",
              "    <div class=\"colab-df-buttons\">\n",
              "\n",
              "  <div class=\"colab-df-container\">\n",
              "    <button class=\"colab-df-convert\" onclick=\"convertToInteractive('df-d69c3f0f-bf4c-40af-80b3-513667a405a1')\"\n",
              "            title=\"Convert this dataframe to an interactive table.\"\n",
              "            style=\"display:none;\">\n",
              "\n",
              "  <svg xmlns=\"http://www.w3.org/2000/svg\" height=\"24px\" viewBox=\"0 -960 960 960\">\n",
              "    <path d=\"M120-120v-720h720v720H120Zm60-500h600v-160H180v160Zm220 220h160v-160H400v160Zm0 220h160v-160H400v160ZM180-400h160v-160H180v160Zm440 0h160v-160H620v160ZM180-180h160v-160H180v160Zm440 0h160v-160H620v160Z\"/>\n",
              "  </svg>\n",
              "    </button>\n",
              "\n",
              "  <style>\n",
              "    .colab-df-container {\n",
              "      display:flex;\n",
              "      gap: 12px;\n",
              "    }\n",
              "\n",
              "    .colab-df-convert {\n",
              "      background-color: #E8F0FE;\n",
              "      border: none;\n",
              "      border-radius: 50%;\n",
              "      cursor: pointer;\n",
              "      display: none;\n",
              "      fill: #1967D2;\n",
              "      height: 32px;\n",
              "      padding: 0 0 0 0;\n",
              "      width: 32px;\n",
              "    }\n",
              "\n",
              "    .colab-df-convert:hover {\n",
              "      background-color: #E2EBFA;\n",
              "      box-shadow: 0px 1px 2px rgba(60, 64, 67, 0.3), 0px 1px 3px 1px rgba(60, 64, 67, 0.15);\n",
              "      fill: #174EA6;\n",
              "    }\n",
              "\n",
              "    .colab-df-buttons div {\n",
              "      margin-bottom: 4px;\n",
              "    }\n",
              "\n",
              "    [theme=dark] .colab-df-convert {\n",
              "      background-color: #3B4455;\n",
              "      fill: #D2E3FC;\n",
              "    }\n",
              "\n",
              "    [theme=dark] .colab-df-convert:hover {\n",
              "      background-color: #434B5C;\n",
              "      box-shadow: 0px 1px 3px 1px rgba(0, 0, 0, 0.15);\n",
              "      filter: drop-shadow(0px 1px 2px rgba(0, 0, 0, 0.3));\n",
              "      fill: #FFFFFF;\n",
              "    }\n",
              "  </style>\n",
              "\n",
              "    <script>\n",
              "      const buttonEl =\n",
              "        document.querySelector('#df-d69c3f0f-bf4c-40af-80b3-513667a405a1 button.colab-df-convert');\n",
              "      buttonEl.style.display =\n",
              "        google.colab.kernel.accessAllowed ? 'block' : 'none';\n",
              "\n",
              "      async function convertToInteractive(key) {\n",
              "        const element = document.querySelector('#df-d69c3f0f-bf4c-40af-80b3-513667a405a1');\n",
              "        const dataTable =\n",
              "          await google.colab.kernel.invokeFunction('convertToInteractive',\n",
              "                                                    [key], {});\n",
              "        if (!dataTable) return;\n",
              "\n",
              "        const docLinkHtml = 'Like what you see? Visit the ' +\n",
              "          '<a target=\"_blank\" href=https://colab.research.google.com/notebooks/data_table.ipynb>data table notebook</a>'\n",
              "          + ' to learn more about interactive tables.';\n",
              "        element.innerHTML = '';\n",
              "        dataTable['output_type'] = 'display_data';\n",
              "        await google.colab.output.renderOutput(dataTable, element);\n",
              "        const docLink = document.createElement('div');\n",
              "        docLink.innerHTML = docLinkHtml;\n",
              "        element.appendChild(docLink);\n",
              "      }\n",
              "    </script>\n",
              "  </div>\n",
              "\n",
              "\n",
              "<div id=\"df-dacc3c86-b837-4270-b3db-2534cc349c0a\">\n",
              "  <button class=\"colab-df-quickchart\" onclick=\"quickchart('df-dacc3c86-b837-4270-b3db-2534cc349c0a')\"\n",
              "            title=\"Suggest charts.\"\n",
              "            style=\"display:none;\">\n",
              "\n",
              "<svg xmlns=\"http://www.w3.org/2000/svg\" height=\"24px\"viewBox=\"0 0 24 24\"\n",
              "     width=\"24px\">\n",
              "    <g>\n",
              "        <path d=\"M19 3H5c-1.1 0-2 .9-2 2v14c0 1.1.9 2 2 2h14c1.1 0 2-.9 2-2V5c0-1.1-.9-2-2-2zM9 17H7v-7h2v7zm4 0h-2V7h2v10zm4 0h-2v-4h2v4z\"/>\n",
              "    </g>\n",
              "</svg>\n",
              "  </button>\n",
              "\n",
              "<style>\n",
              "  .colab-df-quickchart {\n",
              "      --bg-color: #E8F0FE;\n",
              "      --fill-color: #1967D2;\n",
              "      --hover-bg-color: #E2EBFA;\n",
              "      --hover-fill-color: #174EA6;\n",
              "      --disabled-fill-color: #AAA;\n",
              "      --disabled-bg-color: #DDD;\n",
              "  }\n",
              "\n",
              "  [theme=dark] .colab-df-quickchart {\n",
              "      --bg-color: #3B4455;\n",
              "      --fill-color: #D2E3FC;\n",
              "      --hover-bg-color: #434B5C;\n",
              "      --hover-fill-color: #FFFFFF;\n",
              "      --disabled-bg-color: #3B4455;\n",
              "      --disabled-fill-color: #666;\n",
              "  }\n",
              "\n",
              "  .colab-df-quickchart {\n",
              "    background-color: var(--bg-color);\n",
              "    border: none;\n",
              "    border-radius: 50%;\n",
              "    cursor: pointer;\n",
              "    display: none;\n",
              "    fill: var(--fill-color);\n",
              "    height: 32px;\n",
              "    padding: 0;\n",
              "    width: 32px;\n",
              "  }\n",
              "\n",
              "  .colab-df-quickchart:hover {\n",
              "    background-color: var(--hover-bg-color);\n",
              "    box-shadow: 0 1px 2px rgba(60, 64, 67, 0.3), 0 1px 3px 1px rgba(60, 64, 67, 0.15);\n",
              "    fill: var(--button-hover-fill-color);\n",
              "  }\n",
              "\n",
              "  .colab-df-quickchart-complete:disabled,\n",
              "  .colab-df-quickchart-complete:disabled:hover {\n",
              "    background-color: var(--disabled-bg-color);\n",
              "    fill: var(--disabled-fill-color);\n",
              "    box-shadow: none;\n",
              "  }\n",
              "\n",
              "  .colab-df-spinner {\n",
              "    border: 2px solid var(--fill-color);\n",
              "    border-color: transparent;\n",
              "    border-bottom-color: var(--fill-color);\n",
              "    animation:\n",
              "      spin 1s steps(1) infinite;\n",
              "  }\n",
              "\n",
              "  @keyframes spin {\n",
              "    0% {\n",
              "      border-color: transparent;\n",
              "      border-bottom-color: var(--fill-color);\n",
              "      border-left-color: var(--fill-color);\n",
              "    }\n",
              "    20% {\n",
              "      border-color: transparent;\n",
              "      border-left-color: var(--fill-color);\n",
              "      border-top-color: var(--fill-color);\n",
              "    }\n",
              "    30% {\n",
              "      border-color: transparent;\n",
              "      border-left-color: var(--fill-color);\n",
              "      border-top-color: var(--fill-color);\n",
              "      border-right-color: var(--fill-color);\n",
              "    }\n",
              "    40% {\n",
              "      border-color: transparent;\n",
              "      border-right-color: var(--fill-color);\n",
              "      border-top-color: var(--fill-color);\n",
              "    }\n",
              "    60% {\n",
              "      border-color: transparent;\n",
              "      border-right-color: var(--fill-color);\n",
              "    }\n",
              "    80% {\n",
              "      border-color: transparent;\n",
              "      border-right-color: var(--fill-color);\n",
              "      border-bottom-color: var(--fill-color);\n",
              "    }\n",
              "    90% {\n",
              "      border-color: transparent;\n",
              "      border-bottom-color: var(--fill-color);\n",
              "    }\n",
              "  }\n",
              "</style>\n",
              "\n",
              "  <script>\n",
              "    async function quickchart(key) {\n",
              "      const quickchartButtonEl =\n",
              "        document.querySelector('#' + key + ' button');\n",
              "      quickchartButtonEl.disabled = true;  // To prevent multiple clicks.\n",
              "      quickchartButtonEl.classList.add('colab-df-spinner');\n",
              "      try {\n",
              "        const charts = await google.colab.kernel.invokeFunction(\n",
              "            'suggestCharts', [key], {});\n",
              "      } catch (error) {\n",
              "        console.error('Error during call to suggestCharts:', error);\n",
              "      }\n",
              "      quickchartButtonEl.classList.remove('colab-df-spinner');\n",
              "      quickchartButtonEl.classList.add('colab-df-quickchart-complete');\n",
              "    }\n",
              "    (() => {\n",
              "      let quickchartButtonEl =\n",
              "        document.querySelector('#df-dacc3c86-b837-4270-b3db-2534cc349c0a button');\n",
              "      quickchartButtonEl.style.display =\n",
              "        google.colab.kernel.accessAllowed ? 'block' : 'none';\n",
              "    })();\n",
              "  </script>\n",
              "</div>\n",
              "    </div>\n",
              "  </div>\n"
            ]
          },
          "metadata": {},
          "execution_count": 82
        }
      ]
    },
    {
      "cell_type": "code",
      "source": [
        "drt.info()"
      ],
      "metadata": {
        "colab": {
          "base_uri": "https://localhost:8080/"
        },
        "id": "eMwcRXFkc_Nf",
        "outputId": "cbb4e8bd-ce61-4720-b87e-0c6174a22e1f"
      },
      "execution_count": null,
      "outputs": [
        {
          "output_type": "stream",
          "name": "stdout",
          "text": [
            "<class 'pandas.core.frame.DataFrame'>\n",
            "RangeIndex: 2603 entries, 0 to 2602\n",
            "Data columns (total 5 columns):\n",
            " #   Column          Non-Null Count  Dtype \n",
            "---  ------          --------------  ----- \n",
            " 0   user_id         2603 non-null   int64 \n",
            " 1   retweet_id      2603 non-null   int64 \n",
            " 2   created_at      2603 non-null   object\n",
            " 3   tweet_id        2603 non-null   int64 \n",
            " 4   source_user_id  2603 non-null   int64 \n",
            "dtypes: int64(4), object(1)\n",
            "memory usage: 101.8+ KB\n"
          ]
        }
      ]
    },
    {
      "cell_type": "code",
      "source": [
        "drt.duplicated().sum()"
      ],
      "metadata": {
        "colab": {
          "base_uri": "https://localhost:8080/"
        },
        "id": "am0puoP2dCEO",
        "outputId": "dcbf00f5-0965-4fa7-fcf1-9dfae76a1e21"
      },
      "execution_count": null,
      "outputs": [
        {
          "output_type": "execute_result",
          "data": {
            "text/plain": [
              "0"
            ]
          },
          "metadata": {},
          "execution_count": 84
        }
      ]
    },
    {
      "cell_type": "markdown",
      "source": [
        "TODO#1: Remove duplicates from users (subsetted to USER_KEY_MAP)\n",
        "TODO#2: Inject dataframes into sqlite tables\n",
        "TODO#3: Redo for all files; check that sqlite doesn't blow out\n",
        "TODO#4: Download saved database evaluate size and manipulability (do I need a different RDBMS?)\n",
        "TODO#5: Transfer db to Mindflayer."
      ],
      "metadata": {
        "id": "pPJx-ONbdY8s"
      }
    },
    {
      "cell_type": "markdown",
      "source": [
        "### Run tests"
      ],
      "metadata": {
        "id": "bQ8QZrqm0cO3"
      }
    },
    {
      "cell_type": "code",
      "source": [],
      "metadata": {
        "id": "l5OSS2cBxyVS"
      },
      "execution_count": null,
      "outputs": []
    },
    {
      "cell_type": "code",
      "source": [],
      "metadata": {
        "id": "gXCzoYSr3DKL"
      },
      "execution_count": null,
      "outputs": []
    },
    {
      "cell_type": "code",
      "source": [],
      "metadata": {
        "id": "RdEf4KS3_8Nz"
      },
      "execution_count": null,
      "outputs": []
    },
    {
      "cell_type": "code",
      "source": [],
      "metadata": {
        "id": "yVp41haiZraT"
      },
      "execution_count": null,
      "outputs": []
    },
    {
      "cell_type": "markdown",
      "source": [
        "#### Tweet (post) data"
      ],
      "metadata": {
        "id": "jwqvL_VwONCI"
      }
    },
    {
      "cell_type": "code",
      "source": [
        "tw.keys()"
      ],
      "metadata": {
        "colab": {
          "base_uri": "https://localhost:8080/"
        },
        "id": "nbckRnMUxFtK",
        "outputId": "19be0d9c-9821-458d-d24d-6adff574972f"
      },
      "execution_count": null,
      "outputs": [
        {
          "output_type": "execute_result",
          "data": {
            "text/plain": [
              "dict_keys(['created_at', 'id', 'id_str', 'text', 'truncated', 'entities', 'source', 'in_reply_to_status_id', 'in_reply_to_status_id_str', 'in_reply_to_user_id', 'in_reply_to_user_id_str', 'in_reply_to_screen_name', 'user', 'geo', 'coordinates', 'place', 'contributors', 'retweeted_status', 'is_quote_status', 'retweet_count', 'favorite_count', 'favorited', 'retweeted', 'lang'])"
            ]
          },
          "metadata": {},
          "execution_count": 6
        }
      ]
    },
    {
      "cell_type": "code",
      "source": [
        "tw['id']"
      ],
      "metadata": {
        "id": "b64IFLjWHa0J",
        "colab": {
          "base_uri": "https://localhost:8080/"
        },
        "outputId": "8a6f4cdd-0c04-41d3-9e17-4c503ad5445d"
      },
      "execution_count": null,
      "outputs": [
        {
          "output_type": "execute_result",
          "data": {
            "text/plain": [
              "1656960078145101824"
            ]
          },
          "metadata": {},
          "execution_count": 7
        }
      ]
    },
    {
      "cell_type": "code",
      "source": [
        "tw['created_at']"
      ],
      "metadata": {
        "colab": {
          "base_uri": "https://localhost:8080/",
          "height": 35
        },
        "id": "7he5DIVxK43G",
        "outputId": "2cdff17a-0185-4ec8-9153-83a91973226d"
      },
      "execution_count": null,
      "outputs": [
        {
          "output_type": "execute_result",
          "data": {
            "text/plain": [
              "'Fri May 12 09:50:42 +0000 2023'"
            ],
            "application/vnd.google.colaboratory.intrinsic+json": {
              "type": "string"
            }
          },
          "metadata": {},
          "execution_count": 8
        }
      ]
    },
    {
      "cell_type": "code",
      "source": [
        "tw['text']"
      ],
      "metadata": {
        "colab": {
          "base_uri": "https://localhost:8080/",
          "height": 35
        },
        "id": "hHgs34MILEuh",
        "outputId": "83d463ac-c590-4626-a232-8c3b0b67ddff"
      },
      "execution_count": null,
      "outputs": [
        {
          "output_type": "execute_result",
          "data": {
            "text/plain": [
              "'RT @ReaActuelle: Levallois : Bruno le Maire obligé de rentrer par les sous-sols pour assister à une réunion avec le patron de l’Oréal pour…'"
            ],
            "application/vnd.google.colaboratory.intrinsic+json": {
              "type": "string"
            }
          },
          "metadata": {},
          "execution_count": 9
        }
      ]
    },
    {
      "cell_type": "code",
      "source": [
        "tw['retweet_count']"
      ],
      "metadata": {
        "colab": {
          "base_uri": "https://localhost:8080/"
        },
        "id": "CAT60oFyLPYa",
        "outputId": "1fcd2bb2-5262-414d-88e9-3b4d3109670e"
      },
      "execution_count": null,
      "outputs": [
        {
          "output_type": "execute_result",
          "data": {
            "text/plain": [
              "1507"
            ]
          },
          "metadata": {},
          "execution_count": 10
        }
      ]
    },
    {
      "cell_type": "code",
      "source": [
        "tw['favorite_count']"
      ],
      "metadata": {
        "colab": {
          "base_uri": "https://localhost:8080/"
        },
        "id": "-InIfG_JLnVg",
        "outputId": "0ba218c3-65c0-4bf3-ccba-8b2f97e08e1b"
      },
      "execution_count": null,
      "outputs": [
        {
          "output_type": "execute_result",
          "data": {
            "text/plain": [
              "0"
            ]
          },
          "metadata": {},
          "execution_count": 11
        }
      ]
    },
    {
      "cell_type": "markdown",
      "source": [
        "#### User data"
      ],
      "metadata": {
        "id": "2wl96uKbN8a6"
      }
    },
    {
      "cell_type": "code",
      "source": [
        "tw['user'].keys()"
      ],
      "metadata": {
        "colab": {
          "base_uri": "https://localhost:8080/"
        },
        "id": "ukv4w7NrxNEs",
        "outputId": "b12816a6-9a0f-47b8-e0db-579fbbafb4a6"
      },
      "execution_count": null,
      "outputs": [
        {
          "output_type": "execute_result",
          "data": {
            "text/plain": [
              "dict_keys(['id', 'id_str', 'name', 'screen_name', 'location', 'description', 'url', 'entities', 'protected', 'followers_count', 'friends_count', 'listed_count', 'created_at', 'favourites_count', 'utc_offset', 'time_zone', 'geo_enabled', 'verified', 'statuses_count', 'lang', 'contributors_enabled', 'is_translator', 'is_translation_enabled', 'profile_background_color', 'profile_background_image_url', 'profile_background_image_url_https', 'profile_background_tile', 'profile_image_url', 'profile_image_url_https', 'profile_link_color', 'profile_sidebar_border_color', 'profile_sidebar_fill_color', 'profile_text_color', 'profile_use_background_image', 'has_extended_profile', 'default_profile', 'default_profile_image', 'following', 'follow_request_sent', 'notifications', 'translator_type', 'withheld_in_countries'])"
            ]
          },
          "metadata": {},
          "execution_count": 12
        }
      ]
    },
    {
      "cell_type": "code",
      "source": [
        "user_keys_ = ['id', 'name', 'description', 'created_at', 'verified', 'geo_enabled', 'followers_count', 'friends_count', 'statuses_count']\n",
        "for key in user_keys_:\n",
        "    print(f\"{key}: {tw['user'][key]}\")"
      ],
      "metadata": {
        "colab": {
          "base_uri": "https://localhost:8080/"
        },
        "id": "DH5E2kEtjn0F",
        "outputId": "e5674b2b-6227-4610-88fb-5e3ca3fafa0e"
      },
      "execution_count": null,
      "outputs": [
        {
          "output_type": "stream",
          "name": "stdout",
          "text": [
            "id: 335979100\n",
            "name: olanno\n",
            "description: \n",
            "created_at: Fri Jul 15 15:13:58 +0000 2011\n",
            "verified: False\n",
            "geo_enabled: False\n",
            "followers_count: 939\n",
            "friends_count: 1712\n",
            "statuses_count: 67078\n"
          ]
        }
      ]
    },
    {
      "cell_type": "markdown",
      "source": [
        "#### Source tweet from retweet"
      ],
      "metadata": {
        "id": "x-ZeuQtkOFQ5"
      }
    },
    {
      "cell_type": "code",
      "source": [
        "tw['retweeted_status'].keys()"
      ],
      "metadata": {
        "colab": {
          "base_uri": "https://localhost:8080/"
        },
        "id": "GLybIN7V00YT",
        "outputId": "790c1cd4-b5e8-48d0-de75-4e85cbea570b"
      },
      "execution_count": null,
      "outputs": [
        {
          "output_type": "execute_result",
          "data": {
            "text/plain": [
              "dict_keys(['created_at', 'id', 'id_str', 'text', 'truncated', 'entities', 'source', 'in_reply_to_status_id', 'in_reply_to_status_id_str', 'in_reply_to_user_id', 'in_reply_to_user_id_str', 'in_reply_to_screen_name', 'user', 'geo', 'coordinates', 'place', 'contributors', 'is_quote_status', 'retweet_count', 'favorite_count', 'favorited', 'retweeted', 'possibly_sensitive', 'lang'])"
            ]
          },
          "metadata": {},
          "execution_count": 13
        }
      ]
    },
    {
      "cell_type": "code",
      "source": [
        "tw['retweeted_status']['id']"
      ],
      "metadata": {
        "colab": {
          "base_uri": "https://localhost:8080/"
        },
        "id": "ighTtW1w1Dpx",
        "outputId": "aa27580e-19c2-45d3-de28-5bc86b66cb8e"
      },
      "execution_count": null,
      "outputs": [
        {
          "output_type": "execute_result",
          "data": {
            "text/plain": [
              "1656373983795728407"
            ]
          },
          "metadata": {},
          "execution_count": 14
        }
      ]
    },
    {
      "cell_type": "code",
      "source": [
        "tw['retweeted_status']['created_at']"
      ],
      "metadata": {
        "colab": {
          "base_uri": "https://localhost:8080/",
          "height": 35
        },
        "id": "HCUQCVHcvgXZ",
        "outputId": "e3d1e28b-9b08-461d-d62c-31446cb81301"
      },
      "execution_count": null,
      "outputs": [
        {
          "output_type": "execute_result",
          "data": {
            "text/plain": [
              "'Wed May 10 19:01:46 +0000 2023'"
            ],
            "application/vnd.google.colaboratory.intrinsic+json": {
              "type": "string"
            }
          },
          "metadata": {},
          "execution_count": 23
        }
      ]
    },
    {
      "cell_type": "code",
      "source": [
        "tw['retweeted_status']['user']['id']"
      ],
      "metadata": {
        "colab": {
          "base_uri": "https://localhost:8080/"
        },
        "id": "ogw0W0Ns1R3J",
        "outputId": "f36a7dd5-eec0-496e-9ccd-d312498071d2"
      },
      "execution_count": null,
      "outputs": [
        {
          "output_type": "execute_result",
          "data": {
            "text/plain": [
              "1170759331719127041"
            ]
          },
          "metadata": {},
          "execution_count": 16
        }
      ]
    },
    {
      "cell_type": "code",
      "source": [
        "print(tw['retweeted_status']['text'])"
      ],
      "metadata": {
        "colab": {
          "base_uri": "https://localhost:8080/"
        },
        "id": "QReDBhSuvse8",
        "outputId": "84d28540-b8fa-4cbb-8eee-1b2b4d2f5f1f"
      },
      "execution_count": null,
      "outputs": [
        {
          "output_type": "stream",
          "name": "stdout",
          "text": [
            "Levallois : Bruno le Maire obligé de rentrer par les sous-sols pour assister à une réunion avec le patron de l’Oréa… https://t.co/nFSJRwfW65\n"
          ]
        }
      ]
    },
    {
      "cell_type": "code",
      "source": [
        "user1 = tw['user']\n",
        "user2 = tw['retweeted_status']['user']"
      ],
      "metadata": {
        "id": "KzPjd_Cb1kSe"
      },
      "execution_count": null,
      "outputs": []
    },
    {
      "cell_type": "code",
      "source": [],
      "metadata": {
        "id": "JNIqy8kk6M-J"
      },
      "execution_count": null,
      "outputs": []
    }
  ]
}